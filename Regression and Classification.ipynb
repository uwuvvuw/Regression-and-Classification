{
 "cells": [
  {
   "cell_type": "markdown",
   "metadata": {
    "id": "7mrvtOUMYfDq"
   },
   "source": [
    "## Building Predictive Models (Regression & Classification)\n",
    "\n",
    "In this lab, you will learn the basic pipeline of how to build predictive models. The process of training models from data is part of a machine learning where we use lots of data to enable the machine (that is, computers) to learn models that eventually, can be deployed to make further predictions on new or unseen data. Basically, this automates the process of making manual predictions either through a subject matter expert, or through rules and heuristics decided by the expert. \n",
    "\n",
    "> **Credit note:** A small portion of this lab was adapted from [Aurelien Geron's tutorial](https://github.com/ageron/handson-ml). You can find a lot of comprehensive tutorials there."
   ]
  },
  {
   "cell_type": "code",
   "execution_count": 2,
   "metadata": {
    "id": "y8T-rYkeYfDu"
   },
   "outputs": [],
   "source": [
    "import numpy as np\n",
    "import pandas as pd\n",
    "import matplotlib.pyplot as plt\n",
    "import seaborn as sns\n",
    "\n",
    "import warnings\n",
    "warnings.filterwarnings('ignore')"
   ]
  },
  {
   "cell_type": "markdown",
   "metadata": {
    "id": "6-lltFy1RSuo"
   },
   "source": [
    "We will be using `scikit-learn`, a very popular machine learning (ML) library for Python. \n",
    "\n",
    "> **Note**: scikit-learn has very rapid development (every few months, there's an upgrade in version), so you can constantly check to see if the updated version is available."
   ]
  },
  {
   "cell_type": "code",
   "execution_count": null,
   "metadata": {
    "id": "106ibdgrRSKe"
   },
   "outputs": [],
   "source": [
    "!pip install --upgrade scikit-learn"
   ]
  },
  {
   "cell_type": "markdown",
   "metadata": {
    "id": "XOVHhsWYYfD5"
   },
   "source": [
    "Let's try examining a substantially large dataset, `california_housing.csv` which consists of housing data from the state of California in USA. There's more than 20,000 rows of data and this would be more than sufficient for training predictive models."
   ]
  },
  {
   "cell_type": "code",
   "execution_count": 3,
   "metadata": {
    "id": "HXBqQ99AYfD_"
   },
   "outputs": [],
   "source": [
    "df = pd.read_csv('california_housing.csv', encoding='latin1')"
   ]
  },
  {
   "cell_type": "code",
   "execution_count": 4,
   "metadata": {
    "id": "YXB9yYY0YfEH",
    "scrolled": true
   },
   "outputs": [
    {
     "data": {
      "text/html": [
       "<div>\n",
       "<style scoped>\n",
       "    .dataframe tbody tr th:only-of-type {\n",
       "        vertical-align: middle;\n",
       "    }\n",
       "\n",
       "    .dataframe tbody tr th {\n",
       "        vertical-align: top;\n",
       "    }\n",
       "\n",
       "    .dataframe thead th {\n",
       "        text-align: right;\n",
       "    }\n",
       "</style>\n",
       "<table border=\"1\" class=\"dataframe\">\n",
       "  <thead>\n",
       "    <tr style=\"text-align: right;\">\n",
       "      <th></th>\n",
       "      <th>longitude</th>\n",
       "      <th>latitude</th>\n",
       "      <th>housing_median_age</th>\n",
       "      <th>total_rooms</th>\n",
       "      <th>total_bedrooms</th>\n",
       "      <th>population</th>\n",
       "      <th>households</th>\n",
       "      <th>median_income</th>\n",
       "      <th>median_house_value</th>\n",
       "      <th>ocean_proximity</th>\n",
       "    </tr>\n",
       "  </thead>\n",
       "  <tbody>\n",
       "    <tr>\n",
       "      <th>0</th>\n",
       "      <td>-122.23</td>\n",
       "      <td>37.88</td>\n",
       "      <td>41.0</td>\n",
       "      <td>880.0</td>\n",
       "      <td>129.0</td>\n",
       "      <td>322.0</td>\n",
       "      <td>126.0</td>\n",
       "      <td>8.3252</td>\n",
       "      <td>452600.0</td>\n",
       "      <td>NEAR BAY</td>\n",
       "    </tr>\n",
       "    <tr>\n",
       "      <th>1</th>\n",
       "      <td>-122.22</td>\n",
       "      <td>37.86</td>\n",
       "      <td>21.0</td>\n",
       "      <td>7099.0</td>\n",
       "      <td>1106.0</td>\n",
       "      <td>2401.0</td>\n",
       "      <td>1138.0</td>\n",
       "      <td>8.3014</td>\n",
       "      <td>358500.0</td>\n",
       "      <td>NEAR BAY</td>\n",
       "    </tr>\n",
       "    <tr>\n",
       "      <th>2</th>\n",
       "      <td>-122.24</td>\n",
       "      <td>37.85</td>\n",
       "      <td>52.0</td>\n",
       "      <td>1467.0</td>\n",
       "      <td>190.0</td>\n",
       "      <td>496.0</td>\n",
       "      <td>177.0</td>\n",
       "      <td>7.2574</td>\n",
       "      <td>352100.0</td>\n",
       "      <td>NEAR BAY</td>\n",
       "    </tr>\n",
       "    <tr>\n",
       "      <th>3</th>\n",
       "      <td>-122.25</td>\n",
       "      <td>37.85</td>\n",
       "      <td>52.0</td>\n",
       "      <td>1274.0</td>\n",
       "      <td>235.0</td>\n",
       "      <td>558.0</td>\n",
       "      <td>219.0</td>\n",
       "      <td>5.6431</td>\n",
       "      <td>341300.0</td>\n",
       "      <td>NEAR BAY</td>\n",
       "    </tr>\n",
       "    <tr>\n",
       "      <th>4</th>\n",
       "      <td>-122.25</td>\n",
       "      <td>37.85</td>\n",
       "      <td>52.0</td>\n",
       "      <td>1627.0</td>\n",
       "      <td>280.0</td>\n",
       "      <td>565.0</td>\n",
       "      <td>259.0</td>\n",
       "      <td>3.8462</td>\n",
       "      <td>342200.0</td>\n",
       "      <td>NEAR BAY</td>\n",
       "    </tr>\n",
       "  </tbody>\n",
       "</table>\n",
       "</div>"
      ],
      "text/plain": [
       "   longitude  latitude  housing_median_age  total_rooms  total_bedrooms  \\\n",
       "0    -122.23     37.88                41.0        880.0           129.0   \n",
       "1    -122.22     37.86                21.0       7099.0          1106.0   \n",
       "2    -122.24     37.85                52.0       1467.0           190.0   \n",
       "3    -122.25     37.85                52.0       1274.0           235.0   \n",
       "4    -122.25     37.85                52.0       1627.0           280.0   \n",
       "\n",
       "   population  households  median_income  median_house_value ocean_proximity  \n",
       "0       322.0       126.0         8.3252            452600.0        NEAR BAY  \n",
       "1      2401.0      1138.0         8.3014            358500.0        NEAR BAY  \n",
       "2       496.0       177.0         7.2574            352100.0        NEAR BAY  \n",
       "3       558.0       219.0         5.6431            341300.0        NEAR BAY  \n",
       "4       565.0       259.0         3.8462            342200.0        NEAR BAY  "
      ]
     },
     "execution_count": 4,
     "metadata": {},
     "output_type": "execute_result"
    }
   ],
   "source": [
    "df.head()"
   ]
  },
  {
   "cell_type": "code",
   "execution_count": 4,
   "metadata": {},
   "outputs": [
    {
     "data": {
      "text/plain": [
       "array(['NEAR BAY', '<1H OCEAN', 'INLAND', 'NEAR OCEAN', 'ISLAND'],\n",
       "      dtype=object)"
      ]
     },
     "execution_count": 4,
     "metadata": {},
     "output_type": "execute_result"
    }
   ],
   "source": [
    "df.ocean_proximity.unique()"
   ]
  },
  {
   "cell_type": "markdown",
   "metadata": {
    "id": "buFLiUp4YfES"
   },
   "source": [
    "Let's have a look at the information of this dataset..."
   ]
  },
  {
   "cell_type": "code",
   "execution_count": 5,
   "metadata": {
    "id": "Zzyv9X1GYfEU"
   },
   "outputs": [
    {
     "name": "stdout",
     "output_type": "stream",
     "text": [
      "<class 'pandas.core.frame.DataFrame'>\n",
      "RangeIndex: 20640 entries, 0 to 20639\n",
      "Data columns (total 10 columns):\n",
      " #   Column              Non-Null Count  Dtype  \n",
      "---  ------              --------------  -----  \n",
      " 0   longitude           20640 non-null  float64\n",
      " 1   latitude            20640 non-null  float64\n",
      " 2   housing_median_age  20640 non-null  float64\n",
      " 3   total_rooms         20640 non-null  float64\n",
      " 4   total_bedrooms      20433 non-null  float64\n",
      " 5   population          20640 non-null  float64\n",
      " 6   households          20640 non-null  float64\n",
      " 7   median_income       20640 non-null  float64\n",
      " 8   median_house_value  20640 non-null  float64\n",
      " 9   ocean_proximity     20640 non-null  object \n",
      "dtypes: float64(9), object(1)\n",
      "memory usage: 1.6+ MB\n"
     ]
    }
   ],
   "source": [
    "df.info()"
   ]
  },
  {
   "cell_type": "markdown",
   "metadata": {
    "id": "-irtRNrNYfEc"
   },
   "source": [
    "We have all numerical data except for the last column `ocean_proximity` which is stated as *object*. A closer look at the values of this attribute will reveal that they are actually strings. \n",
    "\n",
    "> **Recall:** When using dataframes, strings are also considered objects."
   ]
  },
  {
   "cell_type": "code",
   "execution_count": 6,
   "metadata": {
    "id": "MPs86ur_YfEc"
   },
   "outputs": [
    {
     "data": {
      "text/plain": [
       "0    NEAR BAY\n",
       "1    NEAR BAY\n",
       "2    NEAR BAY\n",
       "3    NEAR BAY\n",
       "4    NEAR BAY\n",
       "Name: ocean_proximity, dtype: object"
      ]
     },
     "execution_count": 6,
     "metadata": {},
     "output_type": "execute_result"
    }
   ],
   "source": [
    "df['ocean_proximity'].head()"
   ]
  },
  {
   "cell_type": "markdown",
   "metadata": {
    "id": "z2NsaMXwYfEm"
   },
   "source": [
    "### Preparing the data for model training\n",
    "\n",
    "Before we train the model, we need to prepare the data by doing a few things:\n",
    "* Are there any rows with null values? -> any null values; that row should be dropped\n",
    "* Are there any attributes that are categorical? If yes, and if we are planning to use it to train the model, we ought to convert it to discrete numerical values.\n",
    "* Separate out the descriptor (features) and the response (label) data."
   ]
  },
  {
   "cell_type": "code",
   "execution_count": 5,
   "metadata": {
    "id": "ScRWnAV4YfEo",
    "scrolled": true
   },
   "outputs": [
    {
     "data": {
      "text/html": [
       "<div>\n",
       "<style scoped>\n",
       "    .dataframe tbody tr th:only-of-type {\n",
       "        vertical-align: middle;\n",
       "    }\n",
       "\n",
       "    .dataframe tbody tr th {\n",
       "        vertical-align: top;\n",
       "    }\n",
       "\n",
       "    .dataframe thead th {\n",
       "        text-align: right;\n",
       "    }\n",
       "</style>\n",
       "<table border=\"1\" class=\"dataframe\">\n",
       "  <thead>\n",
       "    <tr style=\"text-align: right;\">\n",
       "      <th></th>\n",
       "      <th>longitude</th>\n",
       "      <th>latitude</th>\n",
       "      <th>housing_median_age</th>\n",
       "      <th>total_rooms</th>\n",
       "      <th>total_bedrooms</th>\n",
       "      <th>population</th>\n",
       "      <th>households</th>\n",
       "      <th>median_income</th>\n",
       "      <th>median_house_value</th>\n",
       "      <th>ocean_proximity</th>\n",
       "    </tr>\n",
       "  </thead>\n",
       "  <tbody>\n",
       "    <tr>\n",
       "      <th>290</th>\n",
       "      <td>-122.16</td>\n",
       "      <td>37.77</td>\n",
       "      <td>47.0</td>\n",
       "      <td>1256.0</td>\n",
       "      <td>NaN</td>\n",
       "      <td>570.0</td>\n",
       "      <td>218.0</td>\n",
       "      <td>4.3750</td>\n",
       "      <td>161900.0</td>\n",
       "      <td>NEAR BAY</td>\n",
       "    </tr>\n",
       "    <tr>\n",
       "      <th>341</th>\n",
       "      <td>-122.17</td>\n",
       "      <td>37.75</td>\n",
       "      <td>38.0</td>\n",
       "      <td>992.0</td>\n",
       "      <td>NaN</td>\n",
       "      <td>732.0</td>\n",
       "      <td>259.0</td>\n",
       "      <td>1.6196</td>\n",
       "      <td>85100.0</td>\n",
       "      <td>NEAR BAY</td>\n",
       "    </tr>\n",
       "    <tr>\n",
       "      <th>538</th>\n",
       "      <td>-122.28</td>\n",
       "      <td>37.78</td>\n",
       "      <td>29.0</td>\n",
       "      <td>5154.0</td>\n",
       "      <td>NaN</td>\n",
       "      <td>3741.0</td>\n",
       "      <td>1273.0</td>\n",
       "      <td>2.5762</td>\n",
       "      <td>173400.0</td>\n",
       "      <td>NEAR BAY</td>\n",
       "    </tr>\n",
       "    <tr>\n",
       "      <th>563</th>\n",
       "      <td>-122.24</td>\n",
       "      <td>37.75</td>\n",
       "      <td>45.0</td>\n",
       "      <td>891.0</td>\n",
       "      <td>NaN</td>\n",
       "      <td>384.0</td>\n",
       "      <td>146.0</td>\n",
       "      <td>4.9489</td>\n",
       "      <td>247100.0</td>\n",
       "      <td>NEAR BAY</td>\n",
       "    </tr>\n",
       "    <tr>\n",
       "      <th>696</th>\n",
       "      <td>-122.10</td>\n",
       "      <td>37.69</td>\n",
       "      <td>41.0</td>\n",
       "      <td>746.0</td>\n",
       "      <td>NaN</td>\n",
       "      <td>387.0</td>\n",
       "      <td>161.0</td>\n",
       "      <td>3.9063</td>\n",
       "      <td>178400.0</td>\n",
       "      <td>NEAR BAY</td>\n",
       "    </tr>\n",
       "    <tr>\n",
       "      <th>...</th>\n",
       "      <td>...</td>\n",
       "      <td>...</td>\n",
       "      <td>...</td>\n",
       "      <td>...</td>\n",
       "      <td>...</td>\n",
       "      <td>...</td>\n",
       "      <td>...</td>\n",
       "      <td>...</td>\n",
       "      <td>...</td>\n",
       "      <td>...</td>\n",
       "    </tr>\n",
       "    <tr>\n",
       "      <th>20267</th>\n",
       "      <td>-119.19</td>\n",
       "      <td>34.20</td>\n",
       "      <td>18.0</td>\n",
       "      <td>3620.0</td>\n",
       "      <td>NaN</td>\n",
       "      <td>3171.0</td>\n",
       "      <td>779.0</td>\n",
       "      <td>3.3409</td>\n",
       "      <td>220500.0</td>\n",
       "      <td>NEAR OCEAN</td>\n",
       "    </tr>\n",
       "    <tr>\n",
       "      <th>20268</th>\n",
       "      <td>-119.18</td>\n",
       "      <td>34.19</td>\n",
       "      <td>19.0</td>\n",
       "      <td>2393.0</td>\n",
       "      <td>NaN</td>\n",
       "      <td>1938.0</td>\n",
       "      <td>762.0</td>\n",
       "      <td>1.6953</td>\n",
       "      <td>167400.0</td>\n",
       "      <td>NEAR OCEAN</td>\n",
       "    </tr>\n",
       "    <tr>\n",
       "      <th>20372</th>\n",
       "      <td>-118.88</td>\n",
       "      <td>34.17</td>\n",
       "      <td>15.0</td>\n",
       "      <td>4260.0</td>\n",
       "      <td>NaN</td>\n",
       "      <td>1701.0</td>\n",
       "      <td>669.0</td>\n",
       "      <td>5.1033</td>\n",
       "      <td>410700.0</td>\n",
       "      <td>&lt;1H OCEAN</td>\n",
       "    </tr>\n",
       "    <tr>\n",
       "      <th>20460</th>\n",
       "      <td>-118.75</td>\n",
       "      <td>34.29</td>\n",
       "      <td>17.0</td>\n",
       "      <td>5512.0</td>\n",
       "      <td>NaN</td>\n",
       "      <td>2734.0</td>\n",
       "      <td>814.0</td>\n",
       "      <td>6.6073</td>\n",
       "      <td>258100.0</td>\n",
       "      <td>&lt;1H OCEAN</td>\n",
       "    </tr>\n",
       "    <tr>\n",
       "      <th>20484</th>\n",
       "      <td>-118.72</td>\n",
       "      <td>34.28</td>\n",
       "      <td>17.0</td>\n",
       "      <td>3051.0</td>\n",
       "      <td>NaN</td>\n",
       "      <td>1705.0</td>\n",
       "      <td>495.0</td>\n",
       "      <td>5.7376</td>\n",
       "      <td>218600.0</td>\n",
       "      <td>&lt;1H OCEAN</td>\n",
       "    </tr>\n",
       "  </tbody>\n",
       "</table>\n",
       "<p>207 rows × 10 columns</p>\n",
       "</div>"
      ],
      "text/plain": [
       "       longitude  latitude  housing_median_age  total_rooms  total_bedrooms  \\\n",
       "290      -122.16     37.77                47.0       1256.0             NaN   \n",
       "341      -122.17     37.75                38.0        992.0             NaN   \n",
       "538      -122.28     37.78                29.0       5154.0             NaN   \n",
       "563      -122.24     37.75                45.0        891.0             NaN   \n",
       "696      -122.10     37.69                41.0        746.0             NaN   \n",
       "...          ...       ...                 ...          ...             ...   \n",
       "20267    -119.19     34.20                18.0       3620.0             NaN   \n",
       "20268    -119.18     34.19                19.0       2393.0             NaN   \n",
       "20372    -118.88     34.17                15.0       4260.0             NaN   \n",
       "20460    -118.75     34.29                17.0       5512.0             NaN   \n",
       "20484    -118.72     34.28                17.0       3051.0             NaN   \n",
       "\n",
       "       population  households  median_income  median_house_value  \\\n",
       "290         570.0       218.0         4.3750            161900.0   \n",
       "341         732.0       259.0         1.6196             85100.0   \n",
       "538        3741.0      1273.0         2.5762            173400.0   \n",
       "563         384.0       146.0         4.9489            247100.0   \n",
       "696         387.0       161.0         3.9063            178400.0   \n",
       "...           ...         ...            ...                 ...   \n",
       "20267      3171.0       779.0         3.3409            220500.0   \n",
       "20268      1938.0       762.0         1.6953            167400.0   \n",
       "20372      1701.0       669.0         5.1033            410700.0   \n",
       "20460      2734.0       814.0         6.6073            258100.0   \n",
       "20484      1705.0       495.0         5.7376            218600.0   \n",
       "\n",
       "      ocean_proximity  \n",
       "290          NEAR BAY  \n",
       "341          NEAR BAY  \n",
       "538          NEAR BAY  \n",
       "563          NEAR BAY  \n",
       "696          NEAR BAY  \n",
       "...               ...  \n",
       "20267      NEAR OCEAN  \n",
       "20268      NEAR OCEAN  \n",
       "20372       <1H OCEAN  \n",
       "20460       <1H OCEAN  \n",
       "20484       <1H OCEAN  \n",
       "\n",
       "[207 rows x 10 columns]"
      ]
     },
     "execution_count": 5,
     "metadata": {},
     "output_type": "execute_result"
    }
   ],
   "source": [
    "sample_incomplete_rows = df[df.isnull().any(axis=1)]     # filter out rows with null values on any column\n",
    "sample_incomplete_rows"
   ]
  },
  {
   "cell_type": "markdown",
   "metadata": {
    "id": "7x_1q4YgYfEv"
   },
   "source": [
    "We have 207 rows containing null values on the `total_bedrooms` column. We have a two quick options: 1) Have these rows removed (if there not many, it would not affect the overall size of the data), 2) Fill these null values with the mean or median value."
   ]
  },
  {
   "cell_type": "code",
   "execution_count": 6,
   "metadata": {
    "id": "VHIfvw4pYfEw"
   },
   "outputs": [
    {
     "data": {
      "text/html": [
       "<div>\n",
       "<style scoped>\n",
       "    .dataframe tbody tr th:only-of-type {\n",
       "        vertical-align: middle;\n",
       "    }\n",
       "\n",
       "    .dataframe tbody tr th {\n",
       "        vertical-align: top;\n",
       "    }\n",
       "\n",
       "    .dataframe thead th {\n",
       "        text-align: right;\n",
       "    }\n",
       "</style>\n",
       "<table border=\"1\" class=\"dataframe\">\n",
       "  <thead>\n",
       "    <tr style=\"text-align: right;\">\n",
       "      <th></th>\n",
       "      <th>longitude</th>\n",
       "      <th>latitude</th>\n",
       "      <th>housing_median_age</th>\n",
       "      <th>total_rooms</th>\n",
       "      <th>total_bedrooms</th>\n",
       "      <th>population</th>\n",
       "      <th>households</th>\n",
       "      <th>median_income</th>\n",
       "      <th>median_house_value</th>\n",
       "      <th>ocean_proximity</th>\n",
       "    </tr>\n",
       "  </thead>\n",
       "  <tbody>\n",
       "    <tr>\n",
       "      <th>0</th>\n",
       "      <td>-122.23</td>\n",
       "      <td>37.88</td>\n",
       "      <td>41.0</td>\n",
       "      <td>880.0</td>\n",
       "      <td>129.0</td>\n",
       "      <td>322.0</td>\n",
       "      <td>126.0</td>\n",
       "      <td>8.3252</td>\n",
       "      <td>452600.0</td>\n",
       "      <td>NEAR BAY</td>\n",
       "    </tr>\n",
       "    <tr>\n",
       "      <th>1</th>\n",
       "      <td>-122.22</td>\n",
       "      <td>37.86</td>\n",
       "      <td>21.0</td>\n",
       "      <td>7099.0</td>\n",
       "      <td>1106.0</td>\n",
       "      <td>2401.0</td>\n",
       "      <td>1138.0</td>\n",
       "      <td>8.3014</td>\n",
       "      <td>358500.0</td>\n",
       "      <td>NEAR BAY</td>\n",
       "    </tr>\n",
       "    <tr>\n",
       "      <th>2</th>\n",
       "      <td>-122.24</td>\n",
       "      <td>37.85</td>\n",
       "      <td>52.0</td>\n",
       "      <td>1467.0</td>\n",
       "      <td>190.0</td>\n",
       "      <td>496.0</td>\n",
       "      <td>177.0</td>\n",
       "      <td>7.2574</td>\n",
       "      <td>352100.0</td>\n",
       "      <td>NEAR BAY</td>\n",
       "    </tr>\n",
       "    <tr>\n",
       "      <th>3</th>\n",
       "      <td>-122.25</td>\n",
       "      <td>37.85</td>\n",
       "      <td>52.0</td>\n",
       "      <td>1274.0</td>\n",
       "      <td>235.0</td>\n",
       "      <td>558.0</td>\n",
       "      <td>219.0</td>\n",
       "      <td>5.6431</td>\n",
       "      <td>341300.0</td>\n",
       "      <td>NEAR BAY</td>\n",
       "    </tr>\n",
       "    <tr>\n",
       "      <th>4</th>\n",
       "      <td>-122.25</td>\n",
       "      <td>37.85</td>\n",
       "      <td>52.0</td>\n",
       "      <td>1627.0</td>\n",
       "      <td>280.0</td>\n",
       "      <td>565.0</td>\n",
       "      <td>259.0</td>\n",
       "      <td>3.8462</td>\n",
       "      <td>342200.0</td>\n",
       "      <td>NEAR BAY</td>\n",
       "    </tr>\n",
       "    <tr>\n",
       "      <th>...</th>\n",
       "      <td>...</td>\n",
       "      <td>...</td>\n",
       "      <td>...</td>\n",
       "      <td>...</td>\n",
       "      <td>...</td>\n",
       "      <td>...</td>\n",
       "      <td>...</td>\n",
       "      <td>...</td>\n",
       "      <td>...</td>\n",
       "      <td>...</td>\n",
       "    </tr>\n",
       "    <tr>\n",
       "      <th>20428</th>\n",
       "      <td>-121.09</td>\n",
       "      <td>39.48</td>\n",
       "      <td>25.0</td>\n",
       "      <td>1665.0</td>\n",
       "      <td>374.0</td>\n",
       "      <td>845.0</td>\n",
       "      <td>330.0</td>\n",
       "      <td>1.5603</td>\n",
       "      <td>78100.0</td>\n",
       "      <td>INLAND</td>\n",
       "    </tr>\n",
       "    <tr>\n",
       "      <th>20429</th>\n",
       "      <td>-121.21</td>\n",
       "      <td>39.49</td>\n",
       "      <td>18.0</td>\n",
       "      <td>697.0</td>\n",
       "      <td>150.0</td>\n",
       "      <td>356.0</td>\n",
       "      <td>114.0</td>\n",
       "      <td>2.5568</td>\n",
       "      <td>77100.0</td>\n",
       "      <td>INLAND</td>\n",
       "    </tr>\n",
       "    <tr>\n",
       "      <th>20430</th>\n",
       "      <td>-121.22</td>\n",
       "      <td>39.43</td>\n",
       "      <td>17.0</td>\n",
       "      <td>2254.0</td>\n",
       "      <td>485.0</td>\n",
       "      <td>1007.0</td>\n",
       "      <td>433.0</td>\n",
       "      <td>1.7000</td>\n",
       "      <td>92300.0</td>\n",
       "      <td>INLAND</td>\n",
       "    </tr>\n",
       "    <tr>\n",
       "      <th>20431</th>\n",
       "      <td>-121.32</td>\n",
       "      <td>39.43</td>\n",
       "      <td>18.0</td>\n",
       "      <td>1860.0</td>\n",
       "      <td>409.0</td>\n",
       "      <td>741.0</td>\n",
       "      <td>349.0</td>\n",
       "      <td>1.8672</td>\n",
       "      <td>84700.0</td>\n",
       "      <td>INLAND</td>\n",
       "    </tr>\n",
       "    <tr>\n",
       "      <th>20432</th>\n",
       "      <td>-121.24</td>\n",
       "      <td>39.37</td>\n",
       "      <td>16.0</td>\n",
       "      <td>2785.0</td>\n",
       "      <td>616.0</td>\n",
       "      <td>1387.0</td>\n",
       "      <td>530.0</td>\n",
       "      <td>2.3886</td>\n",
       "      <td>89400.0</td>\n",
       "      <td>INLAND</td>\n",
       "    </tr>\n",
       "  </tbody>\n",
       "</table>\n",
       "<p>20433 rows × 10 columns</p>\n",
       "</div>"
      ],
      "text/plain": [
       "       longitude  latitude  housing_median_age  total_rooms  total_bedrooms  \\\n",
       "0        -122.23     37.88                41.0        880.0           129.0   \n",
       "1        -122.22     37.86                21.0       7099.0          1106.0   \n",
       "2        -122.24     37.85                52.0       1467.0           190.0   \n",
       "3        -122.25     37.85                52.0       1274.0           235.0   \n",
       "4        -122.25     37.85                52.0       1627.0           280.0   \n",
       "...          ...       ...                 ...          ...             ...   \n",
       "20428    -121.09     39.48                25.0       1665.0           374.0   \n",
       "20429    -121.21     39.49                18.0        697.0           150.0   \n",
       "20430    -121.22     39.43                17.0       2254.0           485.0   \n",
       "20431    -121.32     39.43                18.0       1860.0           409.0   \n",
       "20432    -121.24     39.37                16.0       2785.0           616.0   \n",
       "\n",
       "       population  households  median_income  median_house_value  \\\n",
       "0           322.0       126.0         8.3252            452600.0   \n",
       "1          2401.0      1138.0         8.3014            358500.0   \n",
       "2           496.0       177.0         7.2574            352100.0   \n",
       "3           558.0       219.0         5.6431            341300.0   \n",
       "4           565.0       259.0         3.8462            342200.0   \n",
       "...           ...         ...            ...                 ...   \n",
       "20428       845.0       330.0         1.5603             78100.0   \n",
       "20429       356.0       114.0         2.5568             77100.0   \n",
       "20430      1007.0       433.0         1.7000             92300.0   \n",
       "20431       741.0       349.0         1.8672             84700.0   \n",
       "20432      1387.0       530.0         2.3886             89400.0   \n",
       "\n",
       "      ocean_proximity  \n",
       "0            NEAR BAY  \n",
       "1            NEAR BAY  \n",
       "2            NEAR BAY  \n",
       "3            NEAR BAY  \n",
       "4            NEAR BAY  \n",
       "...               ...  \n",
       "20428          INLAND  \n",
       "20429          INLAND  \n",
       "20430          INLAND  \n",
       "20431          INLAND  \n",
       "20432          INLAND  \n",
       "\n",
       "[20433 rows x 10 columns]"
      ]
     },
     "execution_count": 6,
     "metadata": {},
     "output_type": "execute_result"
    }
   ],
   "source": [
    "# option 1 (remove these rows)\n",
    "\n",
    "# check these 2 columns that are likely to have NaNs\n",
    "housing = df.dropna(subset=[\"total_bedrooms\",'ocean_proximity'],axis=0)  \n",
    "housing.reset_index(drop=True)"
   ]
  },
  {
   "cell_type": "code",
   "execution_count": 7,
   "metadata": {
    "id": "--qOmrMUYfE4"
   },
   "outputs": [
    {
     "data": {
      "text/plain": [
       "20433"
      ]
     },
     "execution_count": 7,
     "metadata": {},
     "output_type": "execute_result"
    }
   ],
   "source": [
    "len(housing)"
   ]
  },
  {
   "cell_type": "markdown",
   "metadata": {
    "id": "QYXVtAEIYfFG"
   },
   "source": [
    "`ocean_promixity` attribute contained a discrete number of categories. In certain libraries that you will be training a model, you may not need to convert its form (discrete categories is accepted), but most cases including for `scikit-learn` package, we need to convert them into numerics. scikit-learn has a `LabelEncoder` class which does the job."
   ]
  },
  {
   "cell_type": "code",
   "execution_count": 8,
   "metadata": {
    "id": "svKd_cZxYfFI"
   },
   "outputs": [
    {
     "data": {
      "text/plain": [
       "array([3, 3, 3, ..., 1, 1, 1], dtype=int64)"
      ]
     },
     "execution_count": 8,
     "metadata": {},
     "output_type": "execute_result"
    }
   ],
   "source": [
    "from sklearn.preprocessing import LabelEncoder\n",
    "\n",
    "encoder = LabelEncoder()\n",
    "housing_cat = housing[\"ocean_proximity\"].values\n",
    "housing_cat_encoded = encoder.fit_transform(housing_cat.astype('str'))   # this \"fits\" the labels to numerical classes\n",
    "housing_cat_encoded"
   ]
  },
  {
   "cell_type": "code",
   "execution_count": 9,
   "metadata": {
    "id": "tqMgux26YfFN"
   },
   "outputs": [
    {
     "data": {
      "text/plain": [
       "array(['<1H OCEAN', 'INLAND', 'ISLAND', 'NEAR BAY', 'NEAR OCEAN'],\n",
       "      dtype='<U10')"
      ]
     },
     "execution_count": 9,
     "metadata": {},
     "output_type": "execute_result"
    }
   ],
   "source": [
    "encoder.classes_"
   ]
  },
  {
   "cell_type": "markdown",
   "metadata": {
    "id": "7TDynEfdYfFV"
   },
   "source": [
    "To make this change directly to the dataframe, replace the original strings with the encoded numerics."
   ]
  },
  {
   "cell_type": "code",
   "execution_count": 10,
   "metadata": {
    "id": "Tzr-NYOUYfFW",
    "scrolled": true
   },
   "outputs": [],
   "source": [
    "housing['ocean_proximity'] = encoder.fit_transform(housing['ocean_proximity'])"
   ]
  },
  {
   "cell_type": "code",
   "execution_count": 11,
   "metadata": {
    "id": "VZJVQri-YfFc",
    "scrolled": true
   },
   "outputs": [
    {
     "data": {
      "text/html": [
       "<div>\n",
       "<style scoped>\n",
       "    .dataframe tbody tr th:only-of-type {\n",
       "        vertical-align: middle;\n",
       "    }\n",
       "\n",
       "    .dataframe tbody tr th {\n",
       "        vertical-align: top;\n",
       "    }\n",
       "\n",
       "    .dataframe thead th {\n",
       "        text-align: right;\n",
       "    }\n",
       "</style>\n",
       "<table border=\"1\" class=\"dataframe\">\n",
       "  <thead>\n",
       "    <tr style=\"text-align: right;\">\n",
       "      <th></th>\n",
       "      <th>longitude</th>\n",
       "      <th>latitude</th>\n",
       "      <th>housing_median_age</th>\n",
       "      <th>total_rooms</th>\n",
       "      <th>total_bedrooms</th>\n",
       "      <th>population</th>\n",
       "      <th>households</th>\n",
       "      <th>median_income</th>\n",
       "      <th>median_house_value</th>\n",
       "      <th>ocean_proximity</th>\n",
       "    </tr>\n",
       "  </thead>\n",
       "  <tbody>\n",
       "    <tr>\n",
       "      <th>0</th>\n",
       "      <td>-122.23</td>\n",
       "      <td>37.88</td>\n",
       "      <td>41.0</td>\n",
       "      <td>880.0</td>\n",
       "      <td>129.0</td>\n",
       "      <td>322.0</td>\n",
       "      <td>126.0</td>\n",
       "      <td>8.3252</td>\n",
       "      <td>452600.0</td>\n",
       "      <td>3</td>\n",
       "    </tr>\n",
       "    <tr>\n",
       "      <th>1</th>\n",
       "      <td>-122.22</td>\n",
       "      <td>37.86</td>\n",
       "      <td>21.0</td>\n",
       "      <td>7099.0</td>\n",
       "      <td>1106.0</td>\n",
       "      <td>2401.0</td>\n",
       "      <td>1138.0</td>\n",
       "      <td>8.3014</td>\n",
       "      <td>358500.0</td>\n",
       "      <td>3</td>\n",
       "    </tr>\n",
       "    <tr>\n",
       "      <th>2</th>\n",
       "      <td>-122.24</td>\n",
       "      <td>37.85</td>\n",
       "      <td>52.0</td>\n",
       "      <td>1467.0</td>\n",
       "      <td>190.0</td>\n",
       "      <td>496.0</td>\n",
       "      <td>177.0</td>\n",
       "      <td>7.2574</td>\n",
       "      <td>352100.0</td>\n",
       "      <td>3</td>\n",
       "    </tr>\n",
       "    <tr>\n",
       "      <th>3</th>\n",
       "      <td>-122.25</td>\n",
       "      <td>37.85</td>\n",
       "      <td>52.0</td>\n",
       "      <td>1274.0</td>\n",
       "      <td>235.0</td>\n",
       "      <td>558.0</td>\n",
       "      <td>219.0</td>\n",
       "      <td>5.6431</td>\n",
       "      <td>341300.0</td>\n",
       "      <td>3</td>\n",
       "    </tr>\n",
       "    <tr>\n",
       "      <th>4</th>\n",
       "      <td>-122.25</td>\n",
       "      <td>37.85</td>\n",
       "      <td>52.0</td>\n",
       "      <td>1627.0</td>\n",
       "      <td>280.0</td>\n",
       "      <td>565.0</td>\n",
       "      <td>259.0</td>\n",
       "      <td>3.8462</td>\n",
       "      <td>342200.0</td>\n",
       "      <td>3</td>\n",
       "    </tr>\n",
       "    <tr>\n",
       "      <th>...</th>\n",
       "      <td>...</td>\n",
       "      <td>...</td>\n",
       "      <td>...</td>\n",
       "      <td>...</td>\n",
       "      <td>...</td>\n",
       "      <td>...</td>\n",
       "      <td>...</td>\n",
       "      <td>...</td>\n",
       "      <td>...</td>\n",
       "      <td>...</td>\n",
       "    </tr>\n",
       "    <tr>\n",
       "      <th>20635</th>\n",
       "      <td>-121.09</td>\n",
       "      <td>39.48</td>\n",
       "      <td>25.0</td>\n",
       "      <td>1665.0</td>\n",
       "      <td>374.0</td>\n",
       "      <td>845.0</td>\n",
       "      <td>330.0</td>\n",
       "      <td>1.5603</td>\n",
       "      <td>78100.0</td>\n",
       "      <td>1</td>\n",
       "    </tr>\n",
       "    <tr>\n",
       "      <th>20636</th>\n",
       "      <td>-121.21</td>\n",
       "      <td>39.49</td>\n",
       "      <td>18.0</td>\n",
       "      <td>697.0</td>\n",
       "      <td>150.0</td>\n",
       "      <td>356.0</td>\n",
       "      <td>114.0</td>\n",
       "      <td>2.5568</td>\n",
       "      <td>77100.0</td>\n",
       "      <td>1</td>\n",
       "    </tr>\n",
       "    <tr>\n",
       "      <th>20637</th>\n",
       "      <td>-121.22</td>\n",
       "      <td>39.43</td>\n",
       "      <td>17.0</td>\n",
       "      <td>2254.0</td>\n",
       "      <td>485.0</td>\n",
       "      <td>1007.0</td>\n",
       "      <td>433.0</td>\n",
       "      <td>1.7000</td>\n",
       "      <td>92300.0</td>\n",
       "      <td>1</td>\n",
       "    </tr>\n",
       "    <tr>\n",
       "      <th>20638</th>\n",
       "      <td>-121.32</td>\n",
       "      <td>39.43</td>\n",
       "      <td>18.0</td>\n",
       "      <td>1860.0</td>\n",
       "      <td>409.0</td>\n",
       "      <td>741.0</td>\n",
       "      <td>349.0</td>\n",
       "      <td>1.8672</td>\n",
       "      <td>84700.0</td>\n",
       "      <td>1</td>\n",
       "    </tr>\n",
       "    <tr>\n",
       "      <th>20639</th>\n",
       "      <td>-121.24</td>\n",
       "      <td>39.37</td>\n",
       "      <td>16.0</td>\n",
       "      <td>2785.0</td>\n",
       "      <td>616.0</td>\n",
       "      <td>1387.0</td>\n",
       "      <td>530.0</td>\n",
       "      <td>2.3886</td>\n",
       "      <td>89400.0</td>\n",
       "      <td>1</td>\n",
       "    </tr>\n",
       "  </tbody>\n",
       "</table>\n",
       "<p>20433 rows × 10 columns</p>\n",
       "</div>"
      ],
      "text/plain": [
       "       longitude  latitude  housing_median_age  total_rooms  total_bedrooms  \\\n",
       "0        -122.23     37.88                41.0        880.0           129.0   \n",
       "1        -122.22     37.86                21.0       7099.0          1106.0   \n",
       "2        -122.24     37.85                52.0       1467.0           190.0   \n",
       "3        -122.25     37.85                52.0       1274.0           235.0   \n",
       "4        -122.25     37.85                52.0       1627.0           280.0   \n",
       "...          ...       ...                 ...          ...             ...   \n",
       "20635    -121.09     39.48                25.0       1665.0           374.0   \n",
       "20636    -121.21     39.49                18.0        697.0           150.0   \n",
       "20637    -121.22     39.43                17.0       2254.0           485.0   \n",
       "20638    -121.32     39.43                18.0       1860.0           409.0   \n",
       "20639    -121.24     39.37                16.0       2785.0           616.0   \n",
       "\n",
       "       population  households  median_income  median_house_value  \\\n",
       "0           322.0       126.0         8.3252            452600.0   \n",
       "1          2401.0      1138.0         8.3014            358500.0   \n",
       "2           496.0       177.0         7.2574            352100.0   \n",
       "3           558.0       219.0         5.6431            341300.0   \n",
       "4           565.0       259.0         3.8462            342200.0   \n",
       "...           ...         ...            ...                 ...   \n",
       "20635       845.0       330.0         1.5603             78100.0   \n",
       "20636       356.0       114.0         2.5568             77100.0   \n",
       "20637      1007.0       433.0         1.7000             92300.0   \n",
       "20638       741.0       349.0         1.8672             84700.0   \n",
       "20639      1387.0       530.0         2.3886             89400.0   \n",
       "\n",
       "       ocean_proximity  \n",
       "0                    3  \n",
       "1                    3  \n",
       "2                    3  \n",
       "3                    3  \n",
       "4                    3  \n",
       "...                ...  \n",
       "20635                1  \n",
       "20636                1  \n",
       "20637                1  \n",
       "20638                1  \n",
       "20639                1  \n",
       "\n",
       "[20433 rows x 10 columns]"
      ]
     },
     "execution_count": 11,
     "metadata": {},
     "output_type": "execute_result"
    }
   ],
   "source": [
    "housing"
   ]
  },
  {
   "cell_type": "markdown",
   "metadata": {
    "id": "Gx_giBQGYfFh"
   },
   "source": [
    "In supervised machine learning, we have the \"data\" and the \"labels\" the so-called \"descriptor\" and the \"response\" variables respectively. `scikit-learn` (and many other packages) uses the `X` and `y` variables as conventions:"
   ]
  },
  {
   "cell_type": "code",
   "execution_count": 12,
   "metadata": {
    "id": "3rnRpyJxYfFj"
   },
   "outputs": [],
   "source": [
    "X = housing.drop(\"median_house_value\", axis=1)     # drop labels from original data\n",
    "y = housing[\"median_house_value\"].copy()    # copy the labels to another dataframe/series"
   ]
  },
  {
   "cell_type": "code",
   "execution_count": 13,
   "metadata": {
    "id": "mg-d16yLYfFp"
   },
   "outputs": [
    {
     "name": "stdout",
     "output_type": "stream",
     "text": [
      "(20433, 9)\n",
      "(20433,)\n"
     ]
    }
   ],
   "source": [
    "# checking the shape is a good practice to know that the information is correct\n",
    "print(X.shape)\n",
    "print(y.shape)"
   ]
  },
  {
   "cell_type": "markdown",
   "metadata": {
    "id": "M_IStmYBYfFu"
   },
   "source": [
    "### Model Training\n",
    "\n",
    "#### Training and Test sets\n",
    "\n",
    "The first step before performing model training is to first divide our data into 2 partitions: **training** and **test** sets. The training set is basically the portion of data that is used to build the model. This set is not appropriate to be used to evaluate the actual performance of the model. Hence, that's why we need the test set. The test set is a held-out portion of the data which will be used to measure how well can the model predict unseen data. Now, obviously all the data we have are \"seen\", but we create an environment where there are \"unseen\" data-- data that has not been seen by the machine during the training step. This can give us an idea how well does the model generalizes towards \"new\" data.\n"
   ]
  },
  {
   "cell_type": "code",
   "execution_count": 14,
   "metadata": {
    "id": "RMeQVf0tYfFv",
    "scrolled": true
   },
   "outputs": [],
   "source": [
    "from sklearn.model_selection import train_test_split"
   ]
  },
  {
   "cell_type": "code",
   "execution_count": 15,
   "metadata": {
    "id": "pnCuOiYuYfF0"
   },
   "outputs": [],
   "source": [
    "X_train, X_test, y_train, y_test = train_test_split(X, y, random_state=1)"
   ]
  },
  {
   "cell_type": "markdown",
   "metadata": {
    "id": "kwekvGEcYfF6"
   },
   "source": [
    "By default, `train_test_split` splits the data in *X* into the train and test portion based on the parameter `test_size=0.25` or 25% of samples in the test size and the remaining (75%) of samples in the training set. This gives a training-test ratio of 3:1. The `random_state` parameter takes a seed value so that the splitting will always be the same (for reproducibility purposes in this exercise). It is OK to leave out this parameter, which in that case, produces totally random splits in every execution."
   ]
  },
  {
   "cell_type": "code",
   "execution_count": 16,
   "metadata": {
    "id": "-hIAf56uYfF7"
   },
   "outputs": [
    {
     "name": "stdout",
     "output_type": "stream",
     "text": [
      "(15324, 9)\n",
      "(15324,)\n",
      "(5109, 9)\n",
      "(5109,)\n"
     ]
    }
   ],
   "source": [
    "# check shapes after splitting\n",
    "print(X_train.shape)\n",
    "print(y_train.shape)\n",
    "print(X_test.shape)\n",
    "print(y_test.shape)"
   ]
  },
  {
   "cell_type": "markdown",
   "metadata": {
    "id": "ck-ck18vYfF_"
   },
   "source": [
    "The prediction of median house value has an expected response in a form of a continuous value, not as categories or classes. It is a **regression** problem, which means that, given a bunch of new data (*X'*), we want to estimate the likely house value (*y'*).\n",
    "\n",
    "Let's go with the simplest method: **Linear Regression**. (And later, we shall also use Decision Tree Regressors to try out)."
   ]
  },
  {
   "cell_type": "code",
   "execution_count": 17,
   "metadata": {
    "id": "huN30-YIYfGB"
   },
   "outputs": [],
   "source": [
    "from sklearn.linear_model import LinearRegression"
   ]
  },
  {
   "cell_type": "code",
   "execution_count": 18,
   "metadata": {
    "id": "FNxOoDCxYfGU"
   },
   "outputs": [],
   "source": [
    "# this fits the data to a linear regression model.\n",
    "# This should be extremely quick!\n",
    "reg = LinearRegression().fit(X_train, y_train)"
   ]
  },
  {
   "cell_type": "markdown",
   "metadata": {
    "id": "-bn6rk8BYfGZ"
   },
   "source": [
    "If you are interested to know what are the *coefficients* to the linear regression model that has been found through the training process:"
   ]
  },
  {
   "cell_type": "code",
   "execution_count": 19,
   "metadata": {
    "id": "3Xry-5whYfGZ"
   },
   "outputs": [
    {
     "data": {
      "text/plain": [
       "array([-4.27859586e+04, -4.25579406e+04,  1.16899780e+03, -8.25110417e+00,\n",
       "        1.15446438e+02, -3.69104753e+01,  4.31167826e+01,  4.02676934e+04,\n",
       "        1.31708435e+02])"
      ]
     },
     "execution_count": 19,
     "metadata": {},
     "output_type": "execute_result"
    }
   ],
   "source": [
    "reg.coef_"
   ]
  },
  {
   "cell_type": "code",
   "execution_count": 20,
   "metadata": {
    "id": "aA9czFuvYfGg"
   },
   "outputs": [
    {
     "data": {
      "text/plain": [
       "-3591367.6371353846"
      ]
     },
     "execution_count": 20,
     "metadata": {},
     "output_type": "execute_result"
    }
   ],
   "source": [
    "reg.intercept_"
   ]
  },
  {
   "cell_type": "markdown",
   "metadata": {
    "id": "N8wqSwKyYfGp"
   },
   "source": [
    "The function `score()` returns the $\\text{R}^2$ determination coefficient which measures how well is the fitting. 1.0 gets us a perfect fit while -1.0 gets us the poorest fit, any value around 0.0 basically means the model predicts something disregarding the input features, which is as good as random. (Note: this seems like similar range to correlation, but it is not correlation!)"
   ]
  },
  {
   "cell_type": "code",
   "execution_count": 21,
   "metadata": {
    "id": "buCq2lWIYfGr"
   },
   "outputs": [
    {
     "data": {
      "text/plain": [
       "0.6480945215253358"
      ]
     },
     "execution_count": 21,
     "metadata": {},
     "output_type": "execute_result"
    }
   ],
   "source": [
    "reg.score(X_test, y_test)"
   ]
  },
  {
   "cell_type": "markdown",
   "metadata": {
    "id": "eHer2sNvYfGv"
   },
   "source": [
    "Let's take the first 5 entries from the test data and use the model to make predictions on the house value. The `predict()` function can perform prediction on a single piece of data, or an array of data."
   ]
  },
  {
   "cell_type": "code",
   "execution_count": 22,
   "metadata": {
    "id": "VDP8cragYfGx"
   },
   "outputs": [
    {
     "data": {
      "text/plain": [
       "array([376549.98172671, 273367.48120464, 146586.82021588, 357596.93640997,\n",
       "        29098.29218555])"
      ]
     },
     "execution_count": 22,
     "metadata": {},
     "output_type": "execute_result"
    }
   ],
   "source": [
    "some_data = X_test.iloc[:5]    # take first 5 entries from X_test\n",
    "predicted_house_values = reg.predict(some_data)\n",
    "predicted_house_values"
   ]
  },
  {
   "cell_type": "code",
   "execution_count": 23,
   "metadata": {
    "id": "ja5U8r5JYfG0"
   },
   "outputs": [
    {
     "data": {
      "text/plain": [
       "array([360900., 291500., 131300., 500001., 118800.])"
      ]
     },
     "execution_count": 23,
     "metadata": {},
     "output_type": "execute_result"
    }
   ],
   "source": [
    "actual_house_values = y_test.iloc[:5].values     # here's the first 5 entries from y_test, which are the 'ground truth'\n",
    "actual_house_values"
   ]
  },
  {
   "cell_type": "markdown",
   "metadata": {
    "id": "ZueKa3AeYfG6"
   },
   "source": [
    "How far are the predicted house values compared to the actual house values? Remember, we have the 'ground truth' or the actual answer. \n",
    "\n",
    "Let's do a simple error calculation. How about finding the *absolute difference* between the two sets of values?"
   ]
  },
  {
   "cell_type": "code",
   "execution_count": 24,
   "metadata": {
    "id": "bO4rKDaoYfG6"
   },
   "outputs": [
    {
     "data": {
      "text/plain": [
       "array([ 15649.98172671,  18132.51879536,  15286.82021588, 142404.06359003,\n",
       "        89701.70781445])"
      ]
     },
     "execution_count": 24,
     "metadata": {},
     "output_type": "execute_result"
    }
   ],
   "source": [
    "np.abs(predicted_house_values-actual_house_values)"
   ]
  },
  {
   "cell_type": "markdown",
   "metadata": {
    "id": "ExBfV6ckYfG-"
   },
   "source": [
    "**What do you observe?**\n",
    "\n",
    "To calculate the mean of this error across all test data, we calculate what is known as **Mean Absolute Erorr (MAE)**, which tells us the amount of error made by the trained model. The *lower* this value, the *better* or more *accurate* the model is."
   ]
  },
  {
   "cell_type": "code",
   "execution_count": 25,
   "metadata": {
    "id": "Vz8UDLzWYfG_"
   },
   "outputs": [
    {
     "name": "stdout",
     "output_type": "stream",
     "text": [
      "50796.156942569665\n"
     ]
    }
   ],
   "source": [
    "from sklearn.metrics import mean_absolute_error\n",
    "\n",
    "y_pred = reg.predict(X_test)\n",
    "model_mae = mean_absolute_error(y_test, y_pred)\n",
    "print(model_mae)"
   ]
  },
  {
   "cell_type": "markdown",
   "metadata": {
    "collapsed": true,
    "id": "sRIexPWjYfHE"
   },
   "source": [
    "Let's try to do some plotting to see where are the data points are and where the linear model is. You can attempt to plot the line manually using the coefficients and intercept values from the model fitting. \n",
    "\n",
    "You can also use seaborn's `regplot()` function which does both: linear regression + plotting the scatter and regression line. The only drawback here is that it does not return the model parameters (coefficients and intercept), hence limiting your ability to use the model for further predictions. "
   ]
  },
  {
   "cell_type": "code",
   "execution_count": 28,
   "metadata": {
    "id": "7oGBgeDkYfHG"
   },
   "outputs": [
    {
     "data": {
      "image/png": "[encoded data removed]",
      "text/plain": [
       "<Figure size 432x288 with 1 Axes>"
      ]
     },
     "metadata": {
      "needs_background": "light"
     },
     "output_type": "display_data"
    }
   ],
   "source": [
    "sns.regplot(x=\"median_income\", y=\"median_house_value\", data=housing, \n",
    "            scatter_kws={\"color\": \"blue\"}, line_kws={\"color\": \"red\"})\n",
    "plt.show()"
   ]
  },
  {
   "cell_type": "markdown",
   "metadata": {
    "id": "puXTm_ugYfHM"
   },
   "source": [
    "Now, let's re-run our experiment using **Decision Tree Regressors**, another regression method that is based on decision trees."
   ]
  },
  {
   "cell_type": "code",
   "execution_count": 26,
   "metadata": {
    "id": "INjHwqZxYfHM"
   },
   "outputs": [],
   "source": [
    "from sklearn.tree import DecisionTreeRegressor"
   ]
  },
  {
   "cell_type": "code",
   "execution_count": 27,
   "metadata": {
    "id": "1jbfhV_OYfHQ"
   },
   "outputs": [
    {
     "data": {
      "text/plain": [
       "DecisionTreeRegressor(max_depth=7)"
      ]
     },
     "execution_count": 27,
     "metadata": {},
     "output_type": "execute_result"
    }
   ],
   "source": [
    "dtr1 = DecisionTreeRegressor(max_depth=7)\n",
    "dtr1.fit(X_train, y_train)"
   ]
  },
  {
   "cell_type": "markdown",
   "metadata": {
    "id": "q0Zi6uD4YfHT"
   },
   "source": [
    "**Technical note:** `max_depth` controls the maximum possible depth of the decision tree (that means, the decision tree cannot expand deeper than this value). The deeper a decision tree expands, the finer it splits the data. This can increase the complexity of the model by way of many local linear regressions, but at the expense of overfitting the training data too much."
   ]
  },
  {
   "cell_type": "code",
   "execution_count": 28,
   "metadata": {
    "id": "FWAuePSVYfHU"
   },
   "outputs": [
    {
     "data": {
      "text/plain": [
       "43211.41597652294"
      ]
     },
     "execution_count": 28,
     "metadata": {},
     "output_type": "execute_result"
    }
   ],
   "source": [
    "y_pred2 = dtr1.predict(X_test)\n",
    "dtr1_mae = mean_absolute_error(y_test, y_pred2)\n",
    "dtr1_mae"
   ]
  },
  {
   "cell_type": "markdown",
   "metadata": {
    "id": "7hncQotfYfHh"
   },
   "source": [
    "### Cross-Validation\n",
    "\n",
    "You may be wondering, isn't this setup a bit unfair, since we have split the data into two portions, 75% for training and 25% for testing. That means the other 75% that were used for training never got chance to be tested. This can be unfair: Either we got really lucky having good results with that 25% data, or we were unlucky having bad results that some better results could be possible if we had split the portions differently. \n",
    "\n",
    "In comes **cross-validation**. Cross-validation is a way of ensuring that every sample gets tested at least once. The way to achieve this is by having a \"folding\" mechanism that will run a few iterations going through a few possible splits. For example, if we intend to perform cross-validation with 3 \"folds\" (also known as 3-fold cross-validation), we first need to partition the full set of data into 3 sections. The 1st section is then held-out as the test set, while the 2nd and 3rd sections will be merged and used as the training set. This is then repeated again by holding out the 2nd section and using the 1st and 3rd sections as training. Finally, repeat again one more time with the 3rd section as test set. We will have 3 test scores in the end. Typically, we will take the average score of all folds as the actual overall score."
   ]
  },
  {
   "cell_type": "code",
   "execution_count": 29,
   "metadata": {
    "id": "b5Dg_-3xYfHi"
   },
   "outputs": [],
   "source": [
    "from sklearn.model_selection import cross_validate"
   ]
  },
  {
   "cell_type": "code",
   "execution_count": 30,
   "metadata": {
    "id": "UCC283YiYfHk"
   },
   "outputs": [],
   "source": [
    "regmodel = LinearRegression()\n",
    "cv_results = cross_validate(regmodel, X, y, cv=3, return_train_score=False)"
   ]
  },
  {
   "cell_type": "code",
   "execution_count": 31,
   "metadata": {
    "id": "lhTWB6wTYfHo"
   },
   "outputs": [
    {
     "data": {
      "text/plain": [
       "dict_keys(['fit_time', 'score_time', 'test_score'])"
      ]
     },
     "execution_count": 31,
     "metadata": {},
     "output_type": "execute_result"
    }
   ],
   "source": [
    "cv_results.keys()"
   ]
  },
  {
   "cell_type": "code",
   "execution_count": 32,
   "metadata": {
    "id": "ZbH-VyInYfHs"
   },
   "outputs": [
    {
     "data": {
      "text/plain": [
       "array([0.57872609, 0.62030172, 0.6025268 ])"
      ]
     },
     "execution_count": 32,
     "metadata": {},
     "output_type": "execute_result"
    }
   ],
   "source": [
    "cv_results['test_score']"
   ]
  },
  {
   "cell_type": "code",
   "execution_count": 33,
   "metadata": {
    "id": "ggJ_xoVVYfHu"
   },
   "outputs": [
    {
     "data": {
      "text/plain": [
       "0.600518206556692"
      ]
     },
     "execution_count": 33,
     "metadata": {},
     "output_type": "execute_result"
    }
   ],
   "source": [
    "cv_results['test_score'].mean()"
   ]
  },
  {
   "cell_type": "code",
   "execution_count": 34,
   "metadata": {
    "id": "TV0R2zpsYfHy"
   },
   "outputs": [
    {
     "name": "stdout",
     "output_type": "stream",
     "text": [
      "[56689.14499556 48747.76068534 54790.16740463]\n"
     ]
    },
    {
     "data": {
      "text/plain": [
       "53409.024361842545"
      ]
     },
     "execution_count": 34,
     "metadata": {},
     "output_type": "execute_result"
    }
   ],
   "source": [
    "from sklearn.metrics import make_scorer\n",
    "mae_scorer = make_scorer(mean_absolute_error)\n",
    "cv_results = cross_validate(regmodel, X, y, cv=3, scoring=mae_scorer, return_train_score=False)\n",
    "print(cv_results['test_score'])\n",
    "cv_results['test_score'].mean()"
   ]
  },
  {
   "cell_type": "markdown",
   "metadata": {
    "id": "ZiS4UFJLYfH0"
   },
   "source": [
    "So, there you go, we now have slightly lower $\\text{R}^2$ results, and slightly higher MAE than before, after we did a thorough cross-validation so that all data samples were tested at least once.\n",
    "\n",
    "You may check out the the list of [linear models](https://scikit-learn.org/stable/modules/classes.html#module-sklearn.linear_model) in scikit-learn (some for regression, some for classification). Other popular choices for regression are Ridge, Lasso and ElasticNet."
   ]
  },
  {
   "cell_type": "markdown",
   "metadata": {
    "id": "14KNZsJ_YfH1"
   },
   "source": [
    "### Classification\n",
    "\n",
    "Let's use the dataset again for the purpose of classification.\n",
    "\n",
    "A Question you would ask could be like: \n",
    "\n",
    "Can we predict the proximity of a house to the ocean given that we know the other attributes (such as median house value, median income, number of bedrooms, etc.) ?"
   ]
  },
  {
   "cell_type": "code",
   "execution_count": 35,
   "metadata": {},
   "outputs": [
    {
     "data": {
      "text/html": [
       "<div>\n",
       "<style scoped>\n",
       "    .dataframe tbody tr th:only-of-type {\n",
       "        vertical-align: middle;\n",
       "    }\n",
       "\n",
       "    .dataframe tbody tr th {\n",
       "        vertical-align: top;\n",
       "    }\n",
       "\n",
       "    .dataframe thead th {\n",
       "        text-align: right;\n",
       "    }\n",
       "</style>\n",
       "<table border=\"1\" class=\"dataframe\">\n",
       "  <thead>\n",
       "    <tr style=\"text-align: right;\">\n",
       "      <th></th>\n",
       "      <th>longitude</th>\n",
       "      <th>latitude</th>\n",
       "      <th>housing_median_age</th>\n",
       "      <th>total_rooms</th>\n",
       "      <th>total_bedrooms</th>\n",
       "      <th>population</th>\n",
       "      <th>households</th>\n",
       "      <th>median_income</th>\n",
       "      <th>ocean_proximity</th>\n",
       "    </tr>\n",
       "  </thead>\n",
       "  <tbody>\n",
       "    <tr>\n",
       "      <th>0</th>\n",
       "      <td>-122.23</td>\n",
       "      <td>37.88</td>\n",
       "      <td>41.0</td>\n",
       "      <td>880.0</td>\n",
       "      <td>129.0</td>\n",
       "      <td>322.0</td>\n",
       "      <td>126.0</td>\n",
       "      <td>8.3252</td>\n",
       "      <td>3</td>\n",
       "    </tr>\n",
       "    <tr>\n",
       "      <th>1</th>\n",
       "      <td>-122.22</td>\n",
       "      <td>37.86</td>\n",
       "      <td>21.0</td>\n",
       "      <td>7099.0</td>\n",
       "      <td>1106.0</td>\n",
       "      <td>2401.0</td>\n",
       "      <td>1138.0</td>\n",
       "      <td>8.3014</td>\n",
       "      <td>3</td>\n",
       "    </tr>\n",
       "    <tr>\n",
       "      <th>2</th>\n",
       "      <td>-122.24</td>\n",
       "      <td>37.85</td>\n",
       "      <td>52.0</td>\n",
       "      <td>1467.0</td>\n",
       "      <td>190.0</td>\n",
       "      <td>496.0</td>\n",
       "      <td>177.0</td>\n",
       "      <td>7.2574</td>\n",
       "      <td>3</td>\n",
       "    </tr>\n",
       "    <tr>\n",
       "      <th>3</th>\n",
       "      <td>-122.25</td>\n",
       "      <td>37.85</td>\n",
       "      <td>52.0</td>\n",
       "      <td>1274.0</td>\n",
       "      <td>235.0</td>\n",
       "      <td>558.0</td>\n",
       "      <td>219.0</td>\n",
       "      <td>5.6431</td>\n",
       "      <td>3</td>\n",
       "    </tr>\n",
       "    <tr>\n",
       "      <th>4</th>\n",
       "      <td>-122.25</td>\n",
       "      <td>37.85</td>\n",
       "      <td>52.0</td>\n",
       "      <td>1627.0</td>\n",
       "      <td>280.0</td>\n",
       "      <td>565.0</td>\n",
       "      <td>259.0</td>\n",
       "      <td>3.8462</td>\n",
       "      <td>3</td>\n",
       "    </tr>\n",
       "  </tbody>\n",
       "</table>\n",
       "</div>"
      ],
      "text/plain": [
       "   longitude  latitude  housing_median_age  total_rooms  total_bedrooms  \\\n",
       "0    -122.23     37.88                41.0        880.0           129.0   \n",
       "1    -122.22     37.86                21.0       7099.0          1106.0   \n",
       "2    -122.24     37.85                52.0       1467.0           190.0   \n",
       "3    -122.25     37.85                52.0       1274.0           235.0   \n",
       "4    -122.25     37.85                52.0       1627.0           280.0   \n",
       "\n",
       "   population  households  median_income  ocean_proximity  \n",
       "0       322.0       126.0         8.3252                3  \n",
       "1      2401.0      1138.0         8.3014                3  \n",
       "2       496.0       177.0         7.2574                3  \n",
       "3       558.0       219.0         5.6431                3  \n",
       "4       565.0       259.0         3.8462                3  "
      ]
     },
     "execution_count": 35,
     "metadata": {},
     "output_type": "execute_result"
    }
   ],
   "source": [
    "X.head()"
   ]
  },
  {
   "cell_type": "code",
   "execution_count": 36,
   "metadata": {},
   "outputs": [
    {
     "data": {
      "text/plain": [
       "0        452600.0\n",
       "1        358500.0\n",
       "2        352100.0\n",
       "3        341300.0\n",
       "4        342200.0\n",
       "           ...   \n",
       "20635     78100.0\n",
       "20636     77100.0\n",
       "20637     92300.0\n",
       "20638     84700.0\n",
       "20639     89400.0\n",
       "Name: median_house_value, Length: 20433, dtype: float64"
      ]
     },
     "execution_count": 36,
     "metadata": {},
     "output_type": "execute_result"
    }
   ],
   "source": [
    "y"
   ]
  },
  {
   "cell_type": "code",
   "execution_count": 37,
   "metadata": {
    "id": "Kb7lsWqNYfH2"
   },
   "outputs": [
    {
     "data": {
      "text/plain": [
       "0    9034\n",
       "1    6496\n",
       "4    2628\n",
       "3    2270\n",
       "2       5\n",
       "Name: ocean_proximity, dtype: int64"
      ]
     },
     "execution_count": 37,
     "metadata": {},
     "output_type": "execute_result"
    }
   ],
   "source": [
    "housing['ocean_proximity'].value_counts()"
   ]
  },
  {
   "cell_type": "markdown",
   "metadata": {
    "id": "EGOvzWXRYfH5"
   },
   "source": [
    "We have 5 entries (label 2) which corresponds to 'ISLAND'. Perhaps there's not many housing on the islands of the Californian coast. We will not be able to build any model to predict this category with so little data. Let's discard it."
   ]
  },
  {
   "cell_type": "code",
   "execution_count": 38,
   "metadata": {
    "id": "CtXz9DZYYfH5"
   },
   "outputs": [],
   "source": [
    "# discard 'island'\n",
    "housing3 = housing[housing['ocean_proximity']!=2]"
   ]
  },
  {
   "cell_type": "code",
   "execution_count": 39,
   "metadata": {
    "id": "mbg2TfdVYfH9"
   },
   "outputs": [
    {
     "data": {
      "text/plain": [
       "0    9034\n",
       "1    6496\n",
       "4    2628\n",
       "3    2270\n",
       "Name: ocean_proximity, dtype: int64"
      ]
     },
     "execution_count": 39,
     "metadata": {},
     "output_type": "execute_result"
    }
   ],
   "source": [
    "housing3['ocean_proximity'].value_counts()"
   ]
  },
  {
   "cell_type": "markdown",
   "metadata": {
    "id": "yadO0qN_YfIB"
   },
   "source": [
    "If you intend to transform back the numerical categories to get the actual discrete categories, you can use `inverse_transform` of the `LabelEncoder` we created earlier. Otherwise, it is fine to leave it as numerical categories."
   ]
  },
  {
   "cell_type": "code",
   "execution_count": 40,
   "metadata": {
    "id": "fPl0iDgrYfIC"
   },
   "outputs": [
    {
     "data": {
      "text/plain": [
       "array(['NEAR BAY', '<1H OCEAN', 'INLAND', 'NEAR OCEAN'], dtype=object)"
      ]
     },
     "execution_count": 40,
     "metadata": {},
     "output_type": "execute_result"
    }
   ],
   "source": [
    "# use the label encoder created earlier to transform backwards these numbers\n",
    "# to get the actual labels\n",
    "encoder.inverse_transform(housing3['ocean_proximity'].unique())"
   ]
  },
  {
   "cell_type": "markdown",
   "metadata": {
    "id": "abqTqL4pYfIF"
   },
   "source": [
    "Let's now form a new bunch of variables (XX) and response (yy) according to this classification problem."
   ]
  },
  {
   "cell_type": "code",
   "execution_count": 41,
   "metadata": {
    "id": "TfiPmWA8YfIF"
   },
   "outputs": [],
   "source": [
    "XX = housing3.drop(\"ocean_proximity\", axis=1)     # drop labels from original data\n",
    "yy = housing3[\"ocean_proximity\"].copy()    # copy the labels to another dataframe/series"
   ]
  },
  {
   "cell_type": "code",
   "execution_count": 42,
   "metadata": {
    "id": "acAMTkwMYfII"
   },
   "outputs": [],
   "source": [
    "from sklearn.linear_model import LogisticRegression"
   ]
  },
  {
   "cell_type": "markdown",
   "metadata": {
    "id": "-FRS2H7YYfIN"
   },
   "source": [
    "Our choice of classification algorithm is the **Logistic Regression**. The logistic regression is fundamentally derived from regression models, but due to the nature of using a *logistic function*, it functions like a classifier, giving almost binary decisions (close to 1 or 0) to predictions. So, this makes it more a classifier than a regressor."
   ]
  },
  {
   "cell_type": "code",
   "execution_count": 43,
   "metadata": {
    "id": "nOekXZmHYfIN"
   },
   "outputs": [],
   "source": [
    "lr_model = LogisticRegression()"
   ]
  },
  {
   "cell_type": "code",
   "execution_count": 44,
   "metadata": {
    "id": "S44c1m_JYfIR",
    "scrolled": true
   },
   "outputs": [
    {
     "name": "stderr",
     "output_type": "stream",
     "text": [
      "[Parallel(n_jobs=1)]: Using backend SequentialBackend with 1 concurrent workers.\n"
     ]
    },
    {
     "name": "stdout",
     "output_type": "stream",
     "text": [
      "[CV] END .................................................... total time=   1.6s\n"
     ]
    },
    {
     "name": "stderr",
     "output_type": "stream",
     "text": [
      "[Parallel(n_jobs=1)]: Done   1 out of   1 | elapsed:    1.6s remaining:    0.0s\n"
     ]
    },
    {
     "name": "stdout",
     "output_type": "stream",
     "text": [
      "[CV] END .................................................... total time=   1.5s\n",
      "[CV] END .................................................... total time=   1.5s\n"
     ]
    },
    {
     "name": "stderr",
     "output_type": "stream",
     "text": [
      "[Parallel(n_jobs=1)]: Done   3 out of   3 | elapsed:    4.9s finished\n"
     ]
    }
   ],
   "source": [
    "cv_model = cross_validate(lr_model, XX, yy, cv=3, return_estimator=True, return_train_score=True, verbose=2)"
   ]
  },
  {
   "cell_type": "code",
   "execution_count": 45,
   "metadata": {
    "id": "w004JOQWtBHD"
   },
   "outputs": [
    {
     "data": {
      "text/plain": [
       "{'fit_time': array([1.66711116, 1.62613225, 1.60323524]),\n",
       " 'score_time': array([0.00700045, 0.00602603, 0.00603557]),\n",
       " 'estimator': [LogisticRegression(),\n",
       "  LogisticRegression(),\n",
       "  LogisticRegression()],\n",
       " 'test_score': array([0.53010279, 0.52386547, 0.53223675]),\n",
       " 'train_score': array([0.52048759, 0.51097731, 0.56039357])}"
      ]
     },
     "execution_count": 45,
     "metadata": {},
     "output_type": "execute_result"
    }
   ],
   "source": [
    "cv_model"
   ]
  },
  {
   "cell_type": "code",
   "execution_count": 46,
   "metadata": {
    "id": "GiwMjaHlYfIV"
   },
   "outputs": [
    {
     "name": "stdout",
     "output_type": "stream",
     "text": [
      "[0.52048759 0.51097731 0.56039357]\n",
      "0.530619489624543\n",
      "[0.53010279 0.52386547 0.53223675]\n",
      "0.5287350025559302\n"
     ]
    }
   ],
   "source": [
    "print(cv_model['train_score'])\n",
    "print(cv_model['train_score'].mean())\n",
    "print(cv_model['test_score'])\n",
    "print(cv_model['test_score'].mean())"
   ]
  },
  {
   "cell_type": "markdown",
   "metadata": {
    "id": "8ddQKkzfYfIY"
   },
   "source": [
    "Note that there is no mention what this \"score\" is but it depends on the algorithm used. Since we are using a classifier, it is likely to be an Accuracy metric by default, but of course the scorer is customizable as we saw earlier. If unsure, go to [here](https://scikit-learn.org/stable/modules/generated/sklearn.linear_model.LogisticRegression.html#sklearn.linear_model.LogisticRegression) and check out the documentation."
   ]
  },
  {
   "cell_type": "markdown",
   "metadata": {
    "id": "t2lmEjCjYfIZ"
   },
   "source": [
    "**How well did the logistic regression classifier perform?**\n",
    "\n",
    "We got an accuracy of ~52% (this varies since we did not use a fixed seed to split the data). Since this is a 4-category classification, we are expecting a random prediction of 25%. So our accuracy is not too bad for a start! \n",
    "\n",
    "Notice also how the training score is higher than the test score. This is a common occurrence when doing machine learning. Typically, the trained model will fit better onto the training data (because it is seen anyway), and when applied to unseen test data, it will generally perform less accurately."
   ]
  },
  {
   "cell_type": "markdown",
   "metadata": {
    "id": "BfL4VeffYfIa"
   },
   "source": [
    "To pick the best estimator, we can simply look at the 3 models from the 3 folds and take the one which gave the best test score. Modify accordingly."
   ]
  },
  {
   "cell_type": "code",
   "execution_count": 47,
   "metadata": {
    "id": "Uz6uTe-KYfIa",
    "scrolled": true
   },
   "outputs": [
    {
     "data": {
      "text/plain": [
       "LogisticRegression()"
      ]
     },
     "execution_count": 47,
     "metadata": {},
     "output_type": "execute_result"
    }
   ],
   "source": [
    "cv_model['estimator'][2]  # 2 is the index for the third fold's model"
   ]
  },
  {
   "cell_type": "markdown",
   "metadata": {
    "id": "JPO-XYthYfIe"
   },
   "source": [
    "Now this model can now be deployed to classify future data that will be collected."
   ]
  },
  {
   "cell_type": "markdown",
   "metadata": {
    "id": "XY7nYcKDYfIe"
   },
   "source": [
    "You may try a few other things:\n",
    "\n",
    "Use other classifiers to see if you can improve on the classification performance. Here are some options:  [`KNeighborsClassifier`](https://scikit-learn.org/stable/modules/generated/sklearn.neighbors.KNeighborsClassifier.html), [`SVM`](https://scikit-learn.org/stable/modules/generated/sklearn.svm.SVC.html), [`MultiLayer Perceptron (MLP)`](https://scikit-learn.org/stable/modules/generated/sklearn.neural_network.MLPClassifier.html). The workflow is the same, with only the change in algorithm.\n"
   ]
  },
  {
   "cell_type": "code",
   "execution_count": 57,
   "metadata": {},
   "outputs": [],
   "source": [
    "# classification for KNeighborsClassifier\n",
    "\n",
    "from sklearn.neighbors import KNeighborsClassifier"
   ]
  },
  {
   "cell_type": "code",
   "execution_count": 64,
   "metadata": {},
   "outputs": [],
   "source": [
    "lr_model2 = KNeighborsClassifier()"
   ]
  },
  {
   "cell_type": "code",
   "execution_count": 65,
   "metadata": {},
   "outputs": [
    {
     "name": "stderr",
     "output_type": "stream",
     "text": [
      "[Parallel(n_jobs=1)]: Using backend SequentialBackend with 1 concurrent workers.\n"
     ]
    },
    {
     "name": "stdout",
     "output_type": "stream",
     "text": [
      "[CV] END .................................................... total time=   0.9s\n"
     ]
    },
    {
     "name": "stderr",
     "output_type": "stream",
     "text": [
      "[Parallel(n_jobs=1)]: Done   1 out of   1 | elapsed:    2.4s remaining:    0.0s\n"
     ]
    },
    {
     "name": "stdout",
     "output_type": "stream",
     "text": [
      "[CV] END .................................................... total time=   0.7s\n",
      "[CV] END .................................................... total time=   0.8s\n"
     ]
    },
    {
     "name": "stderr",
     "output_type": "stream",
     "text": [
      "[Parallel(n_jobs=1)]: Done   3 out of   3 | elapsed:    7.0s finished\n"
     ]
    }
   ],
   "source": [
    "cv_model2 = cross_validate(lr_model2, XX, yy, cv = 3, return_estimator = True, return_train_score = True, verbose = 2)"
   ]
  },
  {
   "cell_type": "code",
   "execution_count": 66,
   "metadata": {},
   "outputs": [
    {
     "data": {
      "text/plain": [
       "{'fit_time': array([0.14725828, 0.11475754, 0.11295915]),\n",
       " 'score_time': array([0.84363842, 0.70802522, 0.73953366]),\n",
       " 'estimator': [KNeighborsClassifier(),\n",
       "  KNeighborsClassifier(),\n",
       "  KNeighborsClassifier()],\n",
       " 'test_score': array([0.59089574, 0.56542811, 0.59289176]),\n",
       " 'train_score': array([0.69613747, 0.69968426, 0.69425068])}"
      ]
     },
     "execution_count": 66,
     "metadata": {},
     "output_type": "execute_result"
    }
   ],
   "source": [
    "cv_model2"
   ]
  },
  {
   "cell_type": "code",
   "execution_count": 59,
   "metadata": {
    "id": "LKkRRebnYfIf"
   },
   "outputs": [],
   "source": [
    "# classification for SVM\n",
    "\n",
    "from sklearn.svm import LinearSVC"
   ]
  },
  {
   "cell_type": "code",
   "execution_count": 60,
   "metadata": {},
   "outputs": [],
   "source": [
    "lr_model3 = LinearSVC()"
   ]
  },
  {
   "cell_type": "code",
   "execution_count": 62,
   "metadata": {},
   "outputs": [
    {
     "name": "stderr",
     "output_type": "stream",
     "text": [
      "[Parallel(n_jobs=1)]: Using backend SequentialBackend with 1 concurrent workers.\n"
     ]
    },
    {
     "name": "stdout",
     "output_type": "stream",
     "text": [
      "[CV] END .................................................... total time=  11.3s\n"
     ]
    },
    {
     "name": "stderr",
     "output_type": "stream",
     "text": [
      "[Parallel(n_jobs=1)]: Done   1 out of   1 | elapsed:   11.3s remaining:    0.0s\n"
     ]
    },
    {
     "name": "stdout",
     "output_type": "stream",
     "text": [
      "[CV] END .................................................... total time=  11.2s\n",
      "[CV] END .................................................... total time=  10.7s\n"
     ]
    },
    {
     "name": "stderr",
     "output_type": "stream",
     "text": [
      "[Parallel(n_jobs=1)]: Done   3 out of   3 | elapsed:   33.4s finished\n"
     ]
    }
   ],
   "source": [
    "cv_model3 = cross_validate(lr_model3, XX, yy, cv = 3, return_estimator = True, return_train_score = True, verbose = 2)"
   ]
  },
  {
   "cell_type": "code",
   "execution_count": 63,
   "metadata": {},
   "outputs": [
    {
     "data": {
      "text/plain": [
       "{'fit_time': array([11.39750314, 11.24656868, 10.7975235 ]),\n",
       " 'score_time': array([0.00697374, 0.01203847, 0.00598335]),\n",
       " 'estimator': [LinearSVC(), LinearSVC(), LinearSVC()],\n",
       " 'test_score': array([0.3215859 , 0.56160963, 0.47481275]),\n",
       " 'train_score': array([0.31825525, 0.55312431, 0.52279903])}"
      ]
     },
     "execution_count": 63,
     "metadata": {},
     "output_type": "execute_result"
    }
   ],
   "source": [
    "cv_model3"
   ]
  },
  {
   "cell_type": "markdown",
   "metadata": {
    "id": "qLT7VsBnYfIn"
   },
   "source": [
    "### \"Pickle\" it\n",
    "\n",
    "You can save the model in scikit-learn using Python's built-in persistence model, called `pickle`. Think of how food can be preserved by the 'pickling' process. :)"
   ]
  },
  {
   "cell_type": "code",
   "execution_count": 48,
   "metadata": {
    "id": "q8ykozqrYfIo"
   },
   "outputs": [],
   "source": [
    "import pickle\n",
    "\n",
    "best_model = cv_model['estimator'][2]\n",
    "\n",
    "with open('model.pkl', 'wb') as file:\n",
    "    pickle.dump(best_model, file)"
   ]
  },
  {
   "cell_type": "markdown",
   "metadata": {
    "id": "VMXLtl0KYfIq"
   },
   "source": [
    "Check your directory (or you can just click on the folder icon in Colab) to see if the pickle file has been created. It's just a little over 1KB, very small!"
   ]
  },
  {
   "cell_type": "code",
   "execution_count": 49,
   "metadata": {
    "id": "XnWt0uV4YfIr"
   },
   "outputs": [
    {
     "name": "stdout",
     "output_type": "stream",
     "text": [
      " Volume in drive C is Windows\n",
      " Volume Serial Number is 5EAB-1763\n",
      "\n",
      " Directory of C:\\Users\\USER\\Labs\\Lab 9\n",
      "\n",
      "26/03/2022  03:51 PM    <DIR>          .\n",
      "26/03/2022  03:51 PM    <DIR>          ..\n",
      "24/03/2022  01:08 PM    <DIR>          .ipynb_checkpoints\n",
      "24/03/2022  01:10 PM             2,991 1201301421 - Lab08.ipynb\n",
      "16/03/2022  03:04 PM         1,423,529 california_housing.csv\n",
      "26/03/2022  03:51 PM           115,035 lab08.ipynb\n",
      "26/03/2022  03:51 PM             1,214 model.pkl\n",
      "               4 File(s)      1,542,769 bytes\n",
      "               3 Dir(s)  51,744,784,384 bytes free\n"
     ]
    }
   ],
   "source": [
    "!dir"
   ]
  },
  {
   "cell_type": "code",
   "execution_count": 50,
   "metadata": {
    "id": "tH_IqinYYfIt"
   },
   "outputs": [],
   "source": [
    "del best_model"
   ]
  },
  {
   "cell_type": "markdown",
   "metadata": {
    "id": "pvsIxrdlYfIw"
   },
   "source": [
    "When you need to load the model:"
   ]
  },
  {
   "cell_type": "code",
   "execution_count": 51,
   "metadata": {
    "id": "AkPE3b6zYfIw"
   },
   "outputs": [],
   "source": [
    "with open('model.pkl', 'rb') as file:\n",
    "    loaded_model = pickle.load(file, encoding='bytes')"
   ]
  },
  {
   "cell_type": "code",
   "execution_count": 52,
   "metadata": {
    "id": "iQtAoRHQYfIz",
    "scrolled": true
   },
   "outputs": [
    {
     "data": {
      "text/plain": [
       "array([[ 3.65163105e-04, -1.34298284e-04, -3.97445261e-05,\n",
       "        -6.92800521e-04,  1.67249632e-04,  1.11031223e-03,\n",
       "         2.93144122e-04, -5.22997494e-06,  4.32926046e-06],\n",
       "       [-8.44247329e-04,  2.76262293e-04,  1.25336111e-04,\n",
       "         2.74406123e-04, -2.64441167e-04,  3.62319503e-04,\n",
       "        -5.03420299e-04,  1.60205321e-05, -4.03300777e-06],\n",
       "       [ 1.97871655e-04, -4.38247883e-05, -7.40205993e-07,\n",
       "         3.24083310e-04, -9.07028444e-05, -1.07013908e-03,\n",
       "         4.08077461e-05, -3.14185244e-06,  2.61934777e-07],\n",
       "       [ 2.81212569e-04, -9.81392206e-05, -8.48513789e-05,\n",
       "         9.43110891e-05,  1.87894380e-04, -4.02492648e-04,\n",
       "         1.69468431e-04, -7.64870473e-06, -5.58187471e-07]])"
      ]
     },
     "execution_count": 52,
     "metadata": {},
     "output_type": "execute_result"
    }
   ],
   "source": [
    "loaded_model.coef_"
   ]
  },
  {
   "cell_type": "markdown",
   "metadata": {
    "id": "caHjBSFDYfI1"
   },
   "source": [
    "## **Grid Search**\n",
    "\n",
    "Some algorithms have many \"free parameters\" that can be tuned to get better models. For example, the [LinearSVC](https://scikit-learn.org/stable/modules/generated/sklearn.svm.LinearSVC.html#sklearn.svm.LinearSVC) or Linear Support Vector Classifier has parameters like the `loss`, `penalty`, `C`, etc. which can influence how the model is fitted. So, in order to fully test which parameter, or combination of parameters works the best for your data, you can use `GridSearchCV` (documentation [here](https://scikit-learn.org/stable/modules/generated/sklearn.model_selection.GridSearchCV.html?highlight=gridsearchcv#sklearn.model_selection.GridSearchCV)) which searches through all possible combinations of the parameters from a defined list of values."
   ]
  },
  {
   "cell_type": "code",
   "execution_count": 53,
   "metadata": {
    "id": "yRoxNJSiYfI1",
    "scrolled": true
   },
   "outputs": [
    {
     "name": "stdout",
     "output_type": "stream",
     "text": [
      "Fitting 5 folds for each of 10 candidates, totalling 50 fits\n",
      "[CV] END ..................................C=0.1, penalty=l1; total time=   0.0s\n",
      "[CV] END ..................................C=0.1, penalty=l1; total time=   0.0s\n",
      "[CV] END ..................................C=0.1, penalty=l1; total time=   0.0s\n",
      "[CV] END ..................................C=0.1, penalty=l1; total time=   0.0s\n",
      "[CV] END ..................................C=0.1, penalty=l1; total time=   0.0s\n",
      "[CV] END ..................................C=0.1, penalty=l2; total time=   1.8s\n",
      "[CV] END ..................................C=0.1, penalty=l2; total time=   1.8s\n",
      "[CV] END ..................................C=0.1, penalty=l2; total time=   1.8s\n",
      "[CV] END ..................................C=0.1, penalty=l2; total time=   1.7s\n",
      "[CV] END ..................................C=0.1, penalty=l2; total time=   1.7s\n",
      "[CV] END ....................................C=1, penalty=l1; total time=   0.0s\n",
      "[CV] END ....................................C=1, penalty=l1; total time=   0.0s\n",
      "[CV] END ....................................C=1, penalty=l1; total time=   0.0s\n",
      "[CV] END ....................................C=1, penalty=l1; total time=   0.0s\n",
      "[CV] END ....................................C=1, penalty=l1; total time=   0.0s\n",
      "[CV] END ....................................C=1, penalty=l2; total time=   1.8s\n",
      "[CV] END ....................................C=1, penalty=l2; total time=   1.8s\n",
      "[CV] END ....................................C=1, penalty=l2; total time=   1.8s\n",
      "[CV] END ....................................C=1, penalty=l2; total time=   1.8s\n",
      "[CV] END ....................................C=1, penalty=l2; total time=   1.7s\n",
      "[CV] END ...................................C=10, penalty=l1; total time=   0.0s\n",
      "[CV] END ...................................C=10, penalty=l1; total time=   0.0s\n",
      "[CV] END ...................................C=10, penalty=l1; total time=   0.0s\n",
      "[CV] END ...................................C=10, penalty=l1; total time=   0.0s\n",
      "[CV] END ...................................C=10, penalty=l1; total time=   0.0s\n",
      "[CV] END ...................................C=10, penalty=l2; total time=   1.8s\n",
      "[CV] END ...................................C=10, penalty=l2; total time=   1.8s\n",
      "[CV] END ...................................C=10, penalty=l2; total time=   1.8s\n",
      "[CV] END ...................................C=10, penalty=l2; total time=   1.8s\n",
      "[CV] END ...................................C=10, penalty=l2; total time=   1.8s\n",
      "[CV] END ..................................C=100, penalty=l1; total time=   0.0s\n",
      "[CV] END ..................................C=100, penalty=l1; total time=   0.0s\n",
      "[CV] END ..................................C=100, penalty=l1; total time=   0.0s\n",
      "[CV] END ..................................C=100, penalty=l1; total time=   0.0s\n",
      "[CV] END ..................................C=100, penalty=l1; total time=   0.0s\n",
      "[CV] END ..................................C=100, penalty=l2; total time=   1.9s\n",
      "[CV] END ..................................C=100, penalty=l2; total time=   2.0s\n",
      "[CV] END ..................................C=100, penalty=l2; total time=   2.0s\n",
      "[CV] END ..................................C=100, penalty=l2; total time=   1.9s\n",
      "[CV] END ..................................C=100, penalty=l2; total time=   1.8s\n",
      "[CV] END .................................C=1000, penalty=l1; total time=   0.0s\n",
      "[CV] END .................................C=1000, penalty=l1; total time=   0.0s\n",
      "[CV] END .................................C=1000, penalty=l1; total time=   0.0s\n",
      "[CV] END .................................C=1000, penalty=l1; total time=   0.0s\n",
      "[CV] END .................................C=1000, penalty=l1; total time=   0.0s\n",
      "[CV] END .................................C=1000, penalty=l2; total time=   1.8s\n",
      "[CV] END .................................C=1000, penalty=l2; total time=   1.9s\n",
      "[CV] END .................................C=1000, penalty=l2; total time=   1.9s\n",
      "[CV] END .................................C=1000, penalty=l2; total time=   1.9s\n",
      "[CV] END .................................C=1000, penalty=l2; total time=   1.7s\n"
     ]
    },
    {
     "data": {
      "text/plain": [
       "GridSearchCV(estimator=LogisticRegression(random_state=0),\n",
       "             param_grid={'C': [0.1, 1, 10, 100, 1000], 'penalty': ('l1', 'l2')},\n",
       "             verbose=2)"
      ]
     },
     "execution_count": 53,
     "metadata": {},
     "output_type": "execute_result"
    }
   ],
   "source": [
    "from sklearn.model_selection import GridSearchCV\n",
    "\n",
    "svc = LogisticRegression(random_state=0)\n",
    "parameters = {'penalty':('l1','l2'), 'C':[0.1, 1, 10, 100, 1000]}   # define the parameters and their value sets\n",
    "clf = GridSearchCV(svc, parameters, verbose=2)\n",
    "clf.fit(XX, yy)"
   ]
  },
  {
   "cell_type": "markdown",
   "metadata": {
    "id": "Yn_vPlikYfI4"
   },
   "source": [
    "To obtain the best fitted model, use `best_estimator_` function. To obtain all cross validated results, use `cv_results_`"
   ]
  },
  {
   "cell_type": "code",
   "execution_count": 54,
   "metadata": {
    "id": "xLqN5lkOYfI4",
    "scrolled": true
   },
   "outputs": [
    {
     "data": {
      "text/plain": [
       "LogisticRegression(C=100, random_state=0)"
      ]
     },
     "execution_count": 54,
     "metadata": {},
     "output_type": "execute_result"
    }
   ],
   "source": [
    "clf.best_estimator_"
   ]
  },
  {
   "cell_type": "code",
   "execution_count": 55,
   "metadata": {
    "id": "mbZI7hvvwkGh"
   },
   "outputs": [
    {
     "data": {
      "text/plain": [
       "{'C': 100, 'penalty': 'l2'}"
      ]
     },
     "execution_count": 55,
     "metadata": {},
     "output_type": "execute_result"
    }
   ],
   "source": [
    "clf.best_params_"
   ]
  },
  {
   "cell_type": "code",
   "execution_count": 56,
   "metadata": {
    "id": "mK5XYu6KYfI6"
   },
   "outputs": [
    {
     "data": {
      "text/plain": [
       "{'mean_fit_time': array([0.00617743, 1.85901794, 0.0050879 , 1.88884764, 0.0051816 ,\n",
       "        1.88821321, 0.00479336, 2.00906725, 0.0056778 , 1.94601717]),\n",
       " 'std_fit_time': array([0.00095853, 0.03691996, 0.00046854, 0.05154016, 0.00037585,\n",
       "        0.01463571, 0.00040153, 0.09254668, 0.0009777 , 0.09442712]),\n",
       " 'mean_score_time': array([0.        , 0.00519872, 0.        , 0.00520563, 0.        ,\n",
       "        0.00618329, 0.        , 0.00678072, 0.        , 0.00539165]),\n",
       " 'std_score_time': array([0.        , 0.00039808, 0.        , 0.00040675, 0.        ,\n",
       "        0.00237023, 0.        , 0.00263111, 0.        , 0.00048165]),\n",
       " 'param_C': masked_array(data=[0.1, 0.1, 1, 1, 10, 10, 100, 100, 1000, 1000],\n",
       "              mask=[False, False, False, False, False, False, False, False,\n",
       "                    False, False],\n",
       "        fill_value='?',\n",
       "             dtype=object),\n",
       " 'param_penalty': masked_array(data=['l1', 'l2', 'l1', 'l2', 'l1', 'l2', 'l1', 'l2', 'l1',\n",
       "                    'l2'],\n",
       "              mask=[False, False, False, False, False, False, False, False,\n",
       "                    False, False],\n",
       "        fill_value='?',\n",
       "             dtype=object),\n",
       " 'params': [{'C': 0.1, 'penalty': 'l1'},\n",
       "  {'C': 0.1, 'penalty': 'l2'},\n",
       "  {'C': 1, 'penalty': 'l1'},\n",
       "  {'C': 1, 'penalty': 'l2'},\n",
       "  {'C': 10, 'penalty': 'l1'},\n",
       "  {'C': 10, 'penalty': 'l2'},\n",
       "  {'C': 100, 'penalty': 'l1'},\n",
       "  {'C': 100, 'penalty': 'l2'},\n",
       "  {'C': 1000, 'penalty': 'l1'},\n",
       "  {'C': 1000, 'penalty': 'l2'}],\n",
       " 'split0_test_score': array([       nan, 0.53671072,        nan, 0.53377386,        nan,\n",
       "        0.53499755,        nan, 0.53524229,        nan, 0.53524229]),\n",
       " 'split1_test_score': array([       nan, 0.51762115,        nan, 0.51811062,        nan,\n",
       "        0.51811062,        nan, 0.51811062,        nan, 0.51811062]),\n",
       " 'split2_test_score': array([       nan, 0.54185022,        nan, 0.55482134,        nan,\n",
       "        0.5423397 ,        nan, 0.54821341,        nan, 0.53597651]),\n",
       " 'split3_test_score': array([       nan, 0.50183599,        nan, 0.50134639,        nan,\n",
       "        0.50820073,        nan, 0.50869033,        nan, 0.50844553]),\n",
       " 'split4_test_score': array([       nan, 0.50428397,        nan, 0.50354957,        nan,\n",
       "        0.50452876,        nan, 0.50452876,        nan, 0.50477356]),\n",
       " 'mean_test_score': array([       nan, 0.52046041,        nan, 0.52232036,        nan,\n",
       "        0.52163547,        nan, 0.52295708,        nan, 0.5205097 ]),\n",
       " 'std_test_score': array([       nan, 0.01635973,        nan, 0.01998734,        nan,\n",
       "        0.01478355,        nan, 0.01646475,        nan, 0.0130782 ]),\n",
       " 'rank_test_score': array([ 6,  5,  7,  2,  8,  3,  9,  1, 10,  4])}"
      ]
     },
     "execution_count": 56,
     "metadata": {},
     "output_type": "execute_result"
    }
   ],
   "source": [
    "clf.cv_results_"
   ]
  }
 ],
 "metadata": {
  "colab": {
   "collapsed_sections": [],
   "name": "lab08.ipynb",
   "provenance": []
  },
  "kernelspec": {
   "display_name": "env",
   "language": "python",
   "name": "env"
  },
  "language_info": {
   "codemirror_mode": {
    "name": "ipython",
    "version": 3
   },
   "file_extension": ".py",
   "mimetype": "text/x-python",
   "name": "python",
   "nbconvert_exporter": "python",
   "pygments_lexer": "ipython3",
   "version": "3.10.1"
  }
 },
 "nbformat": 4,
 "nbformat_minor": 1
}
